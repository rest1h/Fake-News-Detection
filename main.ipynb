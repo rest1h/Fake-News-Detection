{
 "cells": [
  {
   "cell_type": "markdown",
   "metadata": {
    "id": "jzJPAMwSY65V"
   },
   "source": [
    "# Fraud Detection with Pytorch Geometric"
   ]
  },
  {
   "cell_type": "markdown",
   "metadata": {
    "id": "1Kcc3IMdZBwA"
   },
   "source": [
    "## Installation"
   ]
  },
  {
   "cell_type": "code",
   "execution_count": 1,
   "metadata": {
    "colab": {
     "base_uri": "https://localhost:8080/"
    },
    "id": "ER0pkl5Q0ZCI",
    "outputId": "6be88e5a-3d59-4743-d58c-78ef79380bfa"
   },
   "outputs": [
    {
     "name": "stdout",
     "output_type": "stream",
     "text": [
      "1.11.0\n"
     ]
    },
    {
     "name": "stderr",
     "output_type": "stream",
     "text": [
      "c:\\Users\\leok8\\miniconda3\\envs\\net-sci\\lib\\site-packages\\tqdm\\auto.py:22: TqdmWarning: IProgress not found. Please update jupyter and ipywidgets. See https://ipywidgets.readthedocs.io/en/stable/user_install.html\n",
      "  from .autonotebook import tqdm as notebook_tqdm\n"
     ]
    }
   ],
   "source": [
    "# Install required packages.\n",
    "import os\n",
    "import torch\n",
    "\n",
    "os.environ[\"TORCH\"] = torch.__version__\n",
    "print(torch.__version__)\n",
    "\n",
    "!pip install -q torch-scatter -f https://data.pyg.org/whl/torch-${TORCH}.html\n",
    "!pip install -q torch-sparse -f https://data.pyg.org/whl/torch-${TORCH}.html\n",
    "!pip install -q git+https://github.com/pyg-team/pytorch_geometric.git"
   ]
  },
  {
   "cell_type": "code",
   "execution_count": 2,
   "metadata": {
    "collapsed": false,
    "pycharm": {
     "name": "#%%\n"
    }
   },
   "outputs": [],
   "source": [
    "from src.utils import to_networkx\n",
    "from src.model import GNN, GNNWithAttentionFusion"
   ]
  },
  {
   "cell_type": "markdown",
   "metadata": {
    "id": "ZyB3RRbmZD3o"
   },
   "source": [
    "## Dataset\n",
    "\n",
    "- Contains news propagation graphs extracted from Twitter\n",
    "- Source and raw data: https://github.com/KaiDMML/FakeNewsNet\n",
    "- Preprocessing: https://arxiv.org/pdf/2104.12259.pdf\n",
    "- feature=\"content\" --> Spacy Word2Vec + Profile features\n"
   ]
  },
  {
   "cell_type": "code",
   "execution_count": 4,
   "metadata": {
    "colab": {
     "base_uri": "https://localhost:8080/"
    },
    "id": "tvB33IQ5k7Tr",
    "outputId": "6ad7bebb-8b7a-4782-e269-9cb7a0fe6cf0"
   },
   "outputs": [
    {
     "name": "stdout",
     "output_type": "stream",
     "text": [
      "Train Samples:  1092\n",
      "Test Samples:  3826\n"
     ]
    }
   ],
   "source": [
    "from torch_geometric.datasets import UPFD\n",
    "\n",
    "train_data = UPFD(root=\".\", name=\"gossipcop\", feature=\"content\", split=\"train\")\n",
    "test_data = UPFD(root=\".\", name=\"gossipcop\", feature=\"content\", split=\"test\")\n",
    "print(\"Train Samples: \", len(train_data))\n",
    "print(\"Test Samples: \", len(test_data))"
   ]
  },
  {
   "cell_type": "markdown",
   "metadata": {
    "id": "RdM8rXX2hqtw"
   },
   "source": [
    "### Investigating the News Propagation Graph"
   ]
  },
  {
   "cell_type": "code",
   "execution_count": 5,
   "metadata": {
    "colab": {
     "base_uri": "https://localhost:8080/"
    },
    "id": "5qz9MHtnTsvx",
    "outputId": "1810e773-6c1f-4d38-861d-accd06df0beb"
   },
   "outputs": [
    {
     "data": {
      "text/plain": [
       "torch.Size([125, 310])"
      ]
     },
     "execution_count": 5,
     "metadata": {},
     "output_type": "execute_result"
    }
   ],
   "source": [
    "sample_id = 1\n",
    "train_data[sample_id].x.shape"
   ]
  },
  {
   "cell_type": "code",
   "execution_count": 6,
   "metadata": {
    "colab": {
     "base_uri": "https://localhost:8080/"
    },
    "id": "-mGLMrSFjAOB",
    "outputId": "d321b3ed-4553-4825-e01c-2652c5a3c706"
   },
   "outputs": [
    {
     "data": {
      "text/plain": [
       "torch.Size([1])"
      ]
     },
     "execution_count": 6,
     "metadata": {},
     "output_type": "execute_result"
    }
   ],
   "source": [
    "train_data[sample_id].y.shape"
   ]
  },
  {
   "cell_type": "code",
   "execution_count": 7,
   "metadata": {
    "colab": {
     "base_uri": "https://localhost:8080/"
    },
    "id": "8NOGcUvXjEdu",
    "outputId": "14b9a100-f79f-4cfa-a412-85812539b76b"
   },
   "outputs": [
    {
     "data": {
      "text/plain": [
       "tensor([[0.5220, 0.5120, 0.4817,  ..., 0.6874, 0.1023, 0.1529],\n",
       "        [0.4610, 0.4544, 0.6279,  ..., 0.2055, 0.1667, 0.2500],\n",
       "        [0.4461, 0.4728, 0.4978,  ..., 0.8356, 0.0556, 0.0000],\n",
       "        ...,\n",
       "        [0.5574, 0.4934, 0.5588,  ..., 0.3562, 0.0556, 0.2647],\n",
       "        [0.5274, 0.5889, 0.4425,  ..., 0.9589, 0.1111, 0.1176],\n",
       "        [0.5220, 0.5120, 0.4817,  ..., 0.6874, 0.1023, 0.1529]])"
      ]
     },
     "execution_count": 7,
     "metadata": {},
     "output_type": "execute_result"
    }
   ],
   "source": [
    "train_data[sample_id].x"
   ]
  },
  {
   "cell_type": "code",
   "execution_count": 8,
   "metadata": {
    "colab": {
     "base_uri": "https://localhost:8080/"
    },
    "id": "zYeQSJlIjI50",
    "outputId": "601c0489-ddde-47bd-f3ae-0080698440c8"
   },
   "outputs": [
    {
     "data": {
      "text/plain": [
       "tensor([[  0,   1],\n",
       "        [  0,   2],\n",
       "        [  0,   3],\n",
       "        [  0,   4],\n",
       "        [  0,   5],\n",
       "        [  0,   6],\n",
       "        [  0,   7],\n",
       "        [  0,   8],\n",
       "        [  0,   9],\n",
       "        [  0,  10],\n",
       "        [  0,  11],\n",
       "        [  0,  12],\n",
       "        [  0,  13],\n",
       "        [  0,  14],\n",
       "        [  0,  15],\n",
       "        [  0,  16],\n",
       "        [  0,  17],\n",
       "        [  0,  18],\n",
       "        [  0,  19],\n",
       "        [  0,  20],\n",
       "        [  0,  21],\n",
       "        [  0,  22],\n",
       "        [  0,  23],\n",
       "        [  0,  24],\n",
       "        [  0,  25],\n",
       "        [  0,  26],\n",
       "        [  0,  27],\n",
       "        [  0,  28],\n",
       "        [  0,  29],\n",
       "        [  0,  30],\n",
       "        [  0,  31],\n",
       "        [  0,  32],\n",
       "        [  0,  33],\n",
       "        [  0,  34],\n",
       "        [  0,  35],\n",
       "        [  0,  36],\n",
       "        [  0,  37],\n",
       "        [  0,  38],\n",
       "        [ 15,  39],\n",
       "        [ 15,  40],\n",
       "        [ 17,  43],\n",
       "        [ 17,  44],\n",
       "        [ 22,  45],\n",
       "        [ 22,  46],\n",
       "        [ 22,  47],\n",
       "        [ 22,  48],\n",
       "        [ 23,  49],\n",
       "        [ 26,  50],\n",
       "        [ 26,  51],\n",
       "        [ 26,  52],\n",
       "        [ 26,  53],\n",
       "        [ 26,  54],\n",
       "        [ 26,  55],\n",
       "        [ 26,  56],\n",
       "        [ 26,  57],\n",
       "        [ 27,  59],\n",
       "        [ 27,  60],\n",
       "        [ 27,  61],\n",
       "        [ 28,  63],\n",
       "        [ 28,  64],\n",
       "        [ 28,  65],\n",
       "        [ 28,  66],\n",
       "        [ 28,  67],\n",
       "        [ 28,  68],\n",
       "        [ 28,  69],\n",
       "        [ 28,  70],\n",
       "        [ 28,  71],\n",
       "        [ 28,  72],\n",
       "        [ 28,  73],\n",
       "        [ 28,  74],\n",
       "        [ 28,  75],\n",
       "        [ 28,  76],\n",
       "        [ 28,  77],\n",
       "        [ 28,  78],\n",
       "        [ 28,  79],\n",
       "        [ 28,  80],\n",
       "        [ 28,  81],\n",
       "        [ 28,  82],\n",
       "        [ 28,  83],\n",
       "        [ 28,  84],\n",
       "        [ 28,  85],\n",
       "        [ 28,  86],\n",
       "        [ 28,  87],\n",
       "        [ 28,  88],\n",
       "        [ 28,  89],\n",
       "        [ 28,  90],\n",
       "        [ 28,  91],\n",
       "        [ 28,  92],\n",
       "        [ 28,  93],\n",
       "        [ 28,  94],\n",
       "        [ 28,  95],\n",
       "        [ 28,  96],\n",
       "        [ 30, 115],\n",
       "        [ 34, 119],\n",
       "        [ 34, 120],\n",
       "        [ 38, 121],\n",
       "        [ 38, 122],\n",
       "        [ 38, 123],\n",
       "        [ 38, 124],\n",
       "        [ 39,  41],\n",
       "        [ 40,  42],\n",
       "        [ 57,  58],\n",
       "        [ 59,  62],\n",
       "        [ 65,  97],\n",
       "        [ 65,  98],\n",
       "        [ 65,  99],\n",
       "        [ 66, 100],\n",
       "        [ 68, 101],\n",
       "        [ 69, 103],\n",
       "        [ 77, 104],\n",
       "        [ 77, 105],\n",
       "        [ 79, 106],\n",
       "        [ 79, 107],\n",
       "        [ 80, 108],\n",
       "        [ 83, 109],\n",
       "        [ 83, 110],\n",
       "        [ 83, 111],\n",
       "        [ 83, 112],\n",
       "        [ 84, 114],\n",
       "        [101, 102],\n",
       "        [110, 113],\n",
       "        [115, 116],\n",
       "        [116, 117],\n",
       "        [117, 118]])"
      ]
     },
     "execution_count": 8,
     "metadata": {},
     "output_type": "execute_result"
    }
   ],
   "source": [
    "train_data[sample_id].edge_index.t()"
   ]
  },
  {
   "cell_type": "code",
   "execution_count": 9,
   "metadata": {
    "colab": {
     "base_uri": "https://localhost:8080/"
    },
    "id": "cu2L49DKh8AJ",
    "outputId": "c328dc6b-662b-4cb8-fbed-35f3e23045f6"
   },
   "outputs": [
    {
     "name": "stdout",
     "output_type": "stream",
     "text": [
      "tensor([0])\n",
      "tensor([1])\n",
      "tensor([1])\n",
      "tensor([0])\n",
      "tensor([0])\n",
      "tensor([1])\n",
      "tensor([1])\n",
      "tensor([1])\n",
      "tensor([0])\n",
      "tensor([1])\n",
      "tensor([0])\n",
      "tensor([0])\n",
      "tensor([0])\n",
      "tensor([0])\n",
      "tensor([1])\n",
      "tensor([0])\n",
      "tensor([1])\n",
      "tensor([0])\n",
      "tensor([0])\n",
      "tensor([0])\n",
      "tensor([1])\n",
      "tensor([1])\n",
      "tensor([0])\n",
      "tensor([0])\n",
      "tensor([1])\n",
      "tensor([1])\n",
      "tensor([1])\n",
      "tensor([0])\n",
      "tensor([0])\n",
      "tensor([1])\n",
      "tensor([1])\n",
      "tensor([0])\n",
      "tensor([0])\n",
      "tensor([0])\n",
      "tensor([1])\n",
      "tensor([1])\n",
      "tensor([1])\n",
      "tensor([1])\n",
      "tensor([1])\n",
      "tensor([1])\n",
      "tensor([1])\n",
      "tensor([1])\n",
      "tensor([0])\n",
      "tensor([0])\n",
      "tensor([0])\n",
      "tensor([1])\n",
      "tensor([0])\n",
      "tensor([0])\n",
      "tensor([0])\n",
      "tensor([1])\n",
      "tensor([1])\n",
      "tensor([0])\n",
      "tensor([1])\n",
      "tensor([1])\n",
      "tensor([1])\n",
      "tensor([0])\n",
      "tensor([0])\n",
      "tensor([1])\n",
      "tensor([0])\n",
      "tensor([0])\n",
      "tensor([1])\n",
      "tensor([1])\n",
      "tensor([1])\n",
      "tensor([0])\n",
      "tensor([0])\n",
      "tensor([1])\n",
      "tensor([1])\n",
      "tensor([0])\n",
      "tensor([0])\n",
      "tensor([0])\n",
      "tensor([0])\n",
      "tensor([1])\n",
      "tensor([1])\n",
      "tensor([1])\n",
      "tensor([0])\n",
      "tensor([1])\n",
      "tensor([1])\n",
      "tensor([1])\n",
      "tensor([1])\n",
      "tensor([1])\n",
      "tensor([1])\n",
      "tensor([1])\n",
      "tensor([1])\n",
      "tensor([1])\n",
      "tensor([0])\n",
      "tensor([1])\n",
      "tensor([0])\n",
      "tensor([1])\n",
      "tensor([1])\n",
      "tensor([1])\n",
      "tensor([1])\n",
      "tensor([0])\n",
      "tensor([1])\n",
      "tensor([1])\n",
      "tensor([1])\n",
      "tensor([0])\n",
      "tensor([0])\n",
      "tensor([0])\n",
      "tensor([1])\n",
      "tensor([0])\n",
      "tensor([1])\n",
      "tensor([1])\n",
      "tensor([0])\n",
      "tensor([0])\n",
      "tensor([1])\n",
      "tensor([1])\n",
      "tensor([1])\n",
      "tensor([1])\n",
      "tensor([0])\n",
      "tensor([0])\n",
      "tensor([0])\n",
      "tensor([1])\n",
      "tensor([0])\n",
      "tensor([0])\n",
      "tensor([0])\n",
      "tensor([1])\n",
      "tensor([1])\n",
      "tensor([0])\n",
      "tensor([0])\n",
      "tensor([1])\n",
      "tensor([1])\n",
      "tensor([1])\n",
      "tensor([1])\n",
      "tensor([1])\n",
      "tensor([0])\n",
      "tensor([0])\n",
      "tensor([1])\n",
      "tensor([1])\n",
      "tensor([0])\n",
      "tensor([0])\n",
      "tensor([0])\n",
      "tensor([0])\n",
      "tensor([1])\n",
      "tensor([1])\n",
      "tensor([1])\n",
      "tensor([1])\n",
      "tensor([1])\n",
      "tensor([0])\n",
      "tensor([1])\n",
      "tensor([0])\n",
      "tensor([1])\n",
      "tensor([0])\n",
      "tensor([0])\n",
      "tensor([1])\n",
      "tensor([1])\n",
      "tensor([0])\n",
      "tensor([0])\n",
      "tensor([0])\n",
      "tensor([1])\n",
      "tensor([0])\n",
      "tensor([0])\n",
      "tensor([1])\n",
      "tensor([0])\n",
      "tensor([0])\n",
      "tensor([1])\n",
      "tensor([0])\n",
      "tensor([0])\n",
      "tensor([0])\n",
      "tensor([0])\n",
      "tensor([0])\n",
      "tensor([1])\n",
      "tensor([1])\n",
      "tensor([1])\n",
      "tensor([0])\n",
      "tensor([0])\n",
      "tensor([0])\n",
      "tensor([0])\n",
      "tensor([0])\n",
      "tensor([1])\n",
      "tensor([1])\n",
      "tensor([0])\n",
      "tensor([0])\n",
      "tensor([1])\n",
      "tensor([1])\n",
      "tensor([1])\n",
      "tensor([1])\n",
      "tensor([0])\n",
      "tensor([1])\n",
      "tensor([1])\n",
      "tensor([1])\n",
      "tensor([1])\n",
      "tensor([1])\n",
      "tensor([0])\n",
      "tensor([0])\n",
      "tensor([1])\n",
      "tensor([1])\n",
      "tensor([0])\n",
      "tensor([1])\n",
      "tensor([0])\n",
      "tensor([1])\n",
      "tensor([1])\n",
      "tensor([1])\n",
      "tensor([0])\n",
      "tensor([1])\n",
      "tensor([0])\n",
      "tensor([1])\n",
      "tensor([1])\n",
      "tensor([1])\n",
      "tensor([0])\n",
      "tensor([0])\n",
      "tensor([0])\n",
      "tensor([0])\n",
      "tensor([1])\n",
      "tensor([0])\n",
      "tensor([0])\n",
      "tensor([1])\n",
      "tensor([0])\n",
      "tensor([1])\n",
      "tensor([0])\n",
      "tensor([0])\n",
      "tensor([1])\n",
      "tensor([1])\n",
      "tensor([1])\n",
      "tensor([0])\n",
      "tensor([1])\n",
      "tensor([0])\n",
      "tensor([1])\n",
      "tensor([1])\n",
      "tensor([1])\n",
      "tensor([0])\n",
      "tensor([1])\n",
      "tensor([1])\n",
      "tensor([1])\n",
      "tensor([1])\n",
      "tensor([0])\n",
      "tensor([1])\n",
      "tensor([0])\n",
      "tensor([0])\n",
      "tensor([0])\n",
      "tensor([0])\n",
      "tensor([1])\n",
      "tensor([1])\n",
      "tensor([1])\n",
      "tensor([0])\n",
      "tensor([0])\n",
      "tensor([0])\n",
      "tensor([1])\n",
      "tensor([0])\n",
      "tensor([1])\n",
      "tensor([0])\n",
      "tensor([1])\n",
      "tensor([0])\n",
      "tensor([0])\n",
      "tensor([1])\n",
      "tensor([0])\n",
      "tensor([0])\n",
      "tensor([1])\n",
      "tensor([0])\n",
      "tensor([0])\n",
      "tensor([1])\n",
      "tensor([1])\n",
      "tensor([0])\n",
      "tensor([1])\n",
      "tensor([0])\n",
      "tensor([0])\n",
      "tensor([1])\n",
      "tensor([0])\n",
      "tensor([1])\n",
      "tensor([0])\n",
      "tensor([1])\n",
      "tensor([1])\n",
      "tensor([1])\n",
      "tensor([0])\n",
      "tensor([0])\n",
      "tensor([1])\n",
      "tensor([0])\n",
      "tensor([1])\n",
      "tensor([0])\n",
      "tensor([1])\n",
      "tensor([1])\n",
      "tensor([1])\n",
      "tensor([1])\n",
      "tensor([1])\n",
      "tensor([1])\n",
      "tensor([1])\n",
      "tensor([0])\n",
      "tensor([0])\n",
      "tensor([1])\n",
      "tensor([0])\n",
      "tensor([0])\n",
      "tensor([1])\n",
      "tensor([0])\n",
      "tensor([1])\n",
      "tensor([0])\n",
      "tensor([0])\n",
      "tensor([1])\n",
      "tensor([1])\n",
      "tensor([1])\n",
      "tensor([1])\n",
      "tensor([0])\n",
      "tensor([0])\n",
      "tensor([0])\n",
      "tensor([0])\n",
      "tensor([1])\n",
      "tensor([0])\n",
      "tensor([1])\n",
      "tensor([1])\n",
      "tensor([0])\n",
      "tensor([1])\n",
      "tensor([0])\n",
      "tensor([1])\n",
      "tensor([0])\n",
      "tensor([0])\n",
      "tensor([1])\n",
      "tensor([0])\n",
      "tensor([1])\n",
      "tensor([1])\n",
      "tensor([1])\n",
      "tensor([1])\n",
      "tensor([1])\n",
      "tensor([0])\n",
      "tensor([1])\n",
      "tensor([0])\n",
      "tensor([1])\n",
      "tensor([1])\n",
      "tensor([1])\n",
      "tensor([0])\n",
      "tensor([1])\n",
      "tensor([0])\n",
      "tensor([0])\n",
      "tensor([1])\n",
      "tensor([1])\n",
      "tensor([1])\n",
      "tensor([0])\n",
      "tensor([1])\n",
      "tensor([0])\n",
      "tensor([1])\n",
      "tensor([1])\n",
      "tensor([0])\n",
      "tensor([0])\n",
      "tensor([1])\n",
      "tensor([0])\n",
      "tensor([0])\n",
      "tensor([0])\n",
      "tensor([0])\n",
      "tensor([1])\n",
      "tensor([1])\n",
      "tensor([1])\n",
      "tensor([1])\n",
      "tensor([0])\n",
      "tensor([0])\n",
      "tensor([1])\n",
      "tensor([1])\n",
      "tensor([1])\n",
      "tensor([0])\n",
      "tensor([0])\n",
      "tensor([0])\n",
      "tensor([0])\n",
      "tensor([1])\n",
      "tensor([1])\n",
      "tensor([0])\n",
      "tensor([0])\n",
      "tensor([1])\n",
      "tensor([1])\n",
      "tensor([1])\n",
      "tensor([0])\n",
      "tensor([0])\n",
      "tensor([0])\n",
      "tensor([1])\n",
      "tensor([0])\n",
      "tensor([1])\n",
      "tensor([0])\n",
      "tensor([0])\n",
      "tensor([1])\n",
      "tensor([0])\n",
      "tensor([0])\n",
      "tensor([1])\n",
      "tensor([1])\n",
      "tensor([1])\n",
      "tensor([1])\n",
      "tensor([0])\n",
      "tensor([1])\n",
      "tensor([0])\n",
      "tensor([1])\n",
      "tensor([0])\n",
      "tensor([0])\n",
      "tensor([1])\n",
      "tensor([0])\n",
      "tensor([0])\n",
      "tensor([0])\n",
      "tensor([0])\n",
      "tensor([0])\n",
      "tensor([0])\n",
      "tensor([0])\n",
      "tensor([0])\n",
      "tensor([1])\n",
      "tensor([1])\n",
      "tensor([0])\n",
      "tensor([1])\n",
      "tensor([0])\n",
      "tensor([0])\n",
      "tensor([1])\n",
      "tensor([1])\n",
      "tensor([0])\n",
      "tensor([0])\n",
      "tensor([1])\n",
      "tensor([0])\n",
      "tensor([1])\n",
      "tensor([0])\n",
      "tensor([0])\n",
      "tensor([0])\n",
      "tensor([0])\n",
      "tensor([1])\n",
      "tensor([1])\n",
      "tensor([0])\n",
      "tensor([0])\n",
      "tensor([0])\n",
      "tensor([0])\n",
      "tensor([0])\n",
      "tensor([1])\n",
      "tensor([0])\n",
      "tensor([1])\n",
      "tensor([0])\n",
      "tensor([0])\n",
      "tensor([1])\n",
      "tensor([0])\n",
      "tensor([1])\n",
      "tensor([0])\n",
      "tensor([1])\n",
      "tensor([1])\n",
      "tensor([0])\n",
      "tensor([0])\n",
      "tensor([1])\n",
      "tensor([1])\n",
      "tensor([0])\n",
      "tensor([1])\n",
      "tensor([0])\n",
      "tensor([1])\n",
      "tensor([1])\n",
      "tensor([0])\n",
      "tensor([0])\n",
      "tensor([1])\n",
      "tensor([1])\n",
      "tensor([1])\n",
      "tensor([1])\n",
      "tensor([0])\n",
      "tensor([0])\n",
      "tensor([0])\n",
      "tensor([0])\n",
      "tensor([1])\n",
      "tensor([1])\n",
      "tensor([0])\n",
      "tensor([1])\n",
      "tensor([0])\n",
      "tensor([1])\n",
      "tensor([1])\n",
      "tensor([1])\n",
      "tensor([1])\n",
      "tensor([1])\n",
      "tensor([0])\n",
      "tensor([0])\n",
      "tensor([0])\n",
      "tensor([1])\n",
      "tensor([0])\n",
      "tensor([1])\n",
      "tensor([1])\n",
      "tensor([1])\n",
      "tensor([0])\n",
      "tensor([1])\n",
      "tensor([0])\n",
      "tensor([0])\n",
      "tensor([1])\n",
      "tensor([1])\n",
      "tensor([0])\n",
      "tensor([1])\n",
      "tensor([0])\n",
      "tensor([0])\n",
      "tensor([0])\n",
      "tensor([1])\n",
      "tensor([0])\n",
      "tensor([1])\n",
      "tensor([1])\n",
      "tensor([0])\n",
      "tensor([0])\n",
      "tensor([1])\n",
      "tensor([1])\n",
      "tensor([0])\n",
      "tensor([1])\n",
      "tensor([1])\n",
      "tensor([1])\n",
      "tensor([1])\n",
      "tensor([0])\n",
      "tensor([0])\n",
      "tensor([1])\n",
      "tensor([0])\n",
      "tensor([0])\n",
      "tensor([1])\n",
      "tensor([0])\n",
      "tensor([1])\n",
      "tensor([1])\n",
      "tensor([0])\n",
      "tensor([0])\n",
      "tensor([0])\n",
      "tensor([0])\n",
      "tensor([0])\n",
      "tensor([1])\n",
      "tensor([1])\n",
      "tensor([0])\n",
      "tensor([0])\n",
      "tensor([0])\n",
      "tensor([1])\n",
      "tensor([0])\n",
      "tensor([1])\n",
      "tensor([1])\n",
      "tensor([0])\n",
      "tensor([1])\n",
      "tensor([0])\n",
      "tensor([1])\n",
      "tensor([1])\n",
      "tensor([0])\n",
      "tensor([1])\n",
      "tensor([1])\n",
      "tensor([0])\n",
      "tensor([0])\n",
      "tensor([1])\n",
      "tensor([1])\n",
      "tensor([1])\n",
      "tensor([0])\n",
      "tensor([0])\n",
      "tensor([0])\n",
      "tensor([1])\n",
      "tensor([1])\n",
      "tensor([1])\n",
      "tensor([0])\n",
      "tensor([0])\n",
      "tensor([0])\n",
      "tensor([0])\n",
      "tensor([1])\n",
      "tensor([1])\n",
      "tensor([0])\n",
      "tensor([0])\n",
      "tensor([0])\n",
      "tensor([0])\n",
      "tensor([1])\n",
      "tensor([1])\n",
      "tensor([1])\n",
      "tensor([1])\n",
      "tensor([0])\n",
      "tensor([0])\n",
      "tensor([1])\n",
      "tensor([0])\n",
      "tensor([1])\n",
      "tensor([0])\n",
      "tensor([0])\n",
      "tensor([1])\n",
      "tensor([0])\n",
      "tensor([1])\n",
      "tensor([1])\n",
      "tensor([0])\n",
      "tensor([0])\n",
      "tensor([0])\n",
      "tensor([0])\n",
      "tensor([0])\n",
      "tensor([1])\n",
      "tensor([0])\n",
      "tensor([0])\n",
      "tensor([1])\n",
      "tensor([1])\n",
      "tensor([1])\n",
      "tensor([1])\n",
      "tensor([0])\n",
      "tensor([1])\n",
      "tensor([0])\n",
      "tensor([1])\n",
      "tensor([1])\n",
      "tensor([1])\n",
      "tensor([0])\n",
      "tensor([1])\n",
      "tensor([1])\n",
      "tensor([1])\n",
      "tensor([0])\n",
      "tensor([0])\n",
      "tensor([0])\n",
      "tensor([1])\n",
      "tensor([1])\n",
      "tensor([0])\n",
      "tensor([0])\n",
      "tensor([1])\n",
      "tensor([0])\n",
      "tensor([1])\n",
      "tensor([1])\n",
      "tensor([1])\n",
      "tensor([0])\n",
      "tensor([1])\n",
      "tensor([1])\n",
      "tensor([1])\n",
      "tensor([0])\n",
      "tensor([0])\n",
      "tensor([0])\n",
      "tensor([1])\n",
      "tensor([0])\n",
      "tensor([0])\n",
      "tensor([0])\n",
      "tensor([0])\n",
      "tensor([1])\n",
      "tensor([0])\n",
      "tensor([1])\n",
      "tensor([1])\n",
      "tensor([1])\n",
      "tensor([0])\n",
      "tensor([0])\n",
      "tensor([0])\n",
      "tensor([1])\n",
      "tensor([1])\n",
      "tensor([1])\n",
      "tensor([0])\n",
      "tensor([1])\n",
      "tensor([1])\n",
      "tensor([1])\n",
      "tensor([0])\n",
      "tensor([1])\n",
      "tensor([1])\n",
      "tensor([0])\n",
      "tensor([1])\n",
      "tensor([0])\n",
      "tensor([0])\n",
      "tensor([1])\n",
      "tensor([1])\n",
      "tensor([1])\n",
      "tensor([0])\n",
      "tensor([0])\n",
      "tensor([1])\n",
      "tensor([0])\n",
      "tensor([1])\n",
      "tensor([0])\n",
      "tensor([0])\n",
      "tensor([0])\n",
      "tensor([1])\n",
      "tensor([1])\n",
      "tensor([0])\n",
      "tensor([1])\n",
      "tensor([0])\n",
      "tensor([1])\n",
      "tensor([0])\n",
      "tensor([1])\n",
      "tensor([0])\n",
      "tensor([0])\n",
      "tensor([0])\n",
      "tensor([0])\n",
      "tensor([0])\n",
      "tensor([1])\n",
      "tensor([1])\n",
      "tensor([1])\n",
      "tensor([1])\n",
      "tensor([0])\n",
      "tensor([1])\n",
      "tensor([1])\n",
      "tensor([1])\n",
      "tensor([1])\n",
      "tensor([1])\n",
      "tensor([1])\n",
      "tensor([1])\n",
      "tensor([1])\n",
      "tensor([0])\n",
      "tensor([0])\n",
      "tensor([1])\n",
      "tensor([1])\n",
      "tensor([0])\n",
      "tensor([1])\n",
      "tensor([1])\n",
      "tensor([0])\n",
      "tensor([1])\n",
      "tensor([1])\n",
      "tensor([1])\n",
      "tensor([1])\n",
      "tensor([1])\n",
      "tensor([0])\n",
      "tensor([1])\n",
      "tensor([1])\n",
      "tensor([1])\n",
      "tensor([1])\n",
      "tensor([0])\n",
      "tensor([0])\n",
      "tensor([1])\n",
      "tensor([0])\n",
      "tensor([0])\n",
      "tensor([1])\n",
      "tensor([0])\n",
      "tensor([1])\n",
      "tensor([0])\n",
      "tensor([1])\n",
      "tensor([0])\n",
      "tensor([1])\n",
      "tensor([0])\n",
      "tensor([0])\n",
      "tensor([1])\n",
      "tensor([0])\n",
      "tensor([0])\n",
      "tensor([1])\n",
      "tensor([0])\n",
      "tensor([0])\n",
      "tensor([1])\n",
      "tensor([0])\n",
      "tensor([1])\n",
      "tensor([1])\n",
      "tensor([0])\n",
      "tensor([1])\n",
      "tensor([0])\n",
      "tensor([1])\n",
      "tensor([0])\n",
      "tensor([1])\n",
      "tensor([1])\n",
      "tensor([0])\n",
      "tensor([1])\n",
      "tensor([0])\n",
      "tensor([0])\n",
      "tensor([1])\n",
      "tensor([0])\n",
      "tensor([1])\n",
      "tensor([0])\n",
      "tensor([0])\n",
      "tensor([0])\n",
      "tensor([0])\n",
      "tensor([0])\n",
      "tensor([1])\n",
      "tensor([1])\n",
      "tensor([0])\n",
      "tensor([0])\n",
      "tensor([1])\n",
      "tensor([0])\n",
      "tensor([1])\n",
      "tensor([0])\n",
      "tensor([0])\n",
      "tensor([0])\n",
      "tensor([0])\n",
      "tensor([0])\n",
      "tensor([1])\n",
      "tensor([1])\n",
      "tensor([1])\n",
      "tensor([1])\n",
      "tensor([0])\n",
      "tensor([1])\n",
      "tensor([1])\n",
      "tensor([0])\n",
      "tensor([0])\n",
      "tensor([1])\n",
      "tensor([0])\n",
      "tensor([0])\n",
      "tensor([1])\n",
      "tensor([1])\n",
      "tensor([0])\n",
      "tensor([0])\n",
      "tensor([0])\n",
      "tensor([0])\n",
      "tensor([1])\n",
      "tensor([1])\n",
      "tensor([0])\n",
      "tensor([1])\n",
      "tensor([1])\n",
      "tensor([1])\n",
      "tensor([1])\n",
      "tensor([1])\n",
      "tensor([0])\n",
      "tensor([1])\n",
      "tensor([1])\n",
      "tensor([1])\n",
      "tensor([0])\n",
      "tensor([0])\n",
      "tensor([0])\n",
      "tensor([0])\n",
      "tensor([0])\n",
      "tensor([1])\n",
      "tensor([1])\n",
      "tensor([0])\n",
      "tensor([0])\n",
      "tensor([0])\n",
      "tensor([1])\n",
      "tensor([1])\n",
      "tensor([0])\n",
      "tensor([0])\n",
      "tensor([0])\n",
      "tensor([0])\n",
      "tensor([0])\n",
      "tensor([0])\n",
      "tensor([1])\n",
      "tensor([1])\n",
      "tensor([0])\n",
      "tensor([1])\n",
      "tensor([1])\n",
      "tensor([1])\n",
      "tensor([0])\n",
      "tensor([1])\n",
      "tensor([0])\n",
      "tensor([1])\n",
      "tensor([0])\n",
      "tensor([1])\n",
      "tensor([1])\n",
      "tensor([0])\n",
      "tensor([1])\n",
      "tensor([1])\n",
      "tensor([0])\n",
      "tensor([0])\n",
      "tensor([1])\n",
      "tensor([1])\n",
      "tensor([0])\n",
      "tensor([0])\n",
      "tensor([0])\n",
      "tensor([1])\n",
      "tensor([0])\n",
      "tensor([1])\n",
      "tensor([0])\n",
      "tensor([1])\n",
      "tensor([0])\n",
      "tensor([0])\n",
      "tensor([0])\n",
      "tensor([1])\n",
      "tensor([1])\n",
      "tensor([0])\n",
      "tensor([0])\n",
      "tensor([1])\n",
      "tensor([0])\n",
      "tensor([0])\n",
      "tensor([1])\n",
      "tensor([0])\n",
      "tensor([0])\n",
      "tensor([1])\n",
      "tensor([1])\n",
      "tensor([0])\n",
      "tensor([1])\n",
      "tensor([1])\n",
      "tensor([0])\n",
      "tensor([0])\n",
      "tensor([0])\n",
      "tensor([1])\n",
      "tensor([1])\n",
      "tensor([1])\n",
      "tensor([0])\n",
      "tensor([1])\n",
      "tensor([0])\n",
      "tensor([1])\n",
      "tensor([1])\n",
      "tensor([0])\n",
      "tensor([1])\n",
      "tensor([0])\n",
      "tensor([1])\n",
      "tensor([1])\n",
      "tensor([0])\n",
      "tensor([0])\n",
      "tensor([0])\n",
      "tensor([0])\n",
      "tensor([1])\n",
      "tensor([0])\n",
      "tensor([1])\n",
      "tensor([1])\n",
      "tensor([0])\n",
      "tensor([1])\n",
      "tensor([0])\n",
      "tensor([0])\n",
      "tensor([1])\n",
      "tensor([0])\n",
      "tensor([0])\n",
      "tensor([0])\n",
      "tensor([0])\n",
      "tensor([0])\n",
      "tensor([0])\n",
      "tensor([1])\n",
      "tensor([0])\n",
      "tensor([1])\n",
      "tensor([1])\n",
      "tensor([1])\n",
      "tensor([0])\n",
      "tensor([1])\n",
      "tensor([0])\n",
      "tensor([0])\n",
      "tensor([0])\n",
      "tensor([0])\n",
      "tensor([0])\n",
      "tensor([0])\n",
      "tensor([0])\n",
      "tensor([0])\n",
      "tensor([0])\n",
      "tensor([0])\n",
      "tensor([1])\n",
      "tensor([1])\n",
      "tensor([1])\n",
      "tensor([0])\n",
      "tensor([0])\n",
      "tensor([0])\n",
      "tensor([0])\n",
      "tensor([1])\n",
      "tensor([1])\n",
      "tensor([1])\n",
      "tensor([1])\n",
      "tensor([1])\n",
      "tensor([1])\n",
      "tensor([0])\n",
      "tensor([0])\n",
      "tensor([1])\n",
      "tensor([0])\n",
      "tensor([1])\n",
      "tensor([1])\n",
      "tensor([0])\n",
      "tensor([0])\n",
      "tensor([0])\n",
      "tensor([1])\n",
      "tensor([0])\n",
      "tensor([0])\n",
      "tensor([1])\n",
      "tensor([1])\n",
      "tensor([1])\n",
      "tensor([0])\n",
      "tensor([1])\n",
      "tensor([1])\n",
      "tensor([1])\n",
      "tensor([1])\n",
      "tensor([0])\n",
      "tensor([1])\n",
      "tensor([1])\n",
      "tensor([0])\n",
      "tensor([1])\n",
      "tensor([0])\n",
      "tensor([0])\n",
      "tensor([1])\n",
      "tensor([1])\n",
      "tensor([1])\n",
      "tensor([0])\n",
      "tensor([0])\n",
      "tensor([0])\n",
      "tensor([1])\n",
      "tensor([0])\n",
      "tensor([1])\n",
      "tensor([0])\n",
      "tensor([1])\n",
      "tensor([0])\n",
      "tensor([0])\n",
      "tensor([0])\n",
      "tensor([1])\n",
      "tensor([1])\n",
      "tensor([0])\n",
      "tensor([0])\n",
      "tensor([0])\n",
      "tensor([1])\n",
      "tensor([0])\n",
      "tensor([0])\n",
      "tensor([1])\n",
      "tensor([1])\n",
      "tensor([1])\n",
      "tensor([1])\n",
      "tensor([0])\n",
      "tensor([0])\n",
      "tensor([1])\n",
      "tensor([1])\n",
      "tensor([0])\n",
      "tensor([0])\n",
      "tensor([0])\n",
      "tensor([1])\n",
      "tensor([0])\n",
      "tensor([1])\n",
      "tensor([0])\n",
      "tensor([1])\n",
      "tensor([1])\n",
      "tensor([0])\n",
      "tensor([1])\n",
      "tensor([0])\n",
      "tensor([1])\n",
      "tensor([0])\n",
      "tensor([0])\n",
      "tensor([0])\n",
      "tensor([0])\n",
      "tensor([1])\n",
      "tensor([0])\n",
      "tensor([1])\n",
      "tensor([1])\n",
      "tensor([0])\n",
      "tensor([1])\n",
      "tensor([0])\n",
      "tensor([0])\n",
      "tensor([1])\n",
      "tensor([0])\n",
      "tensor([1])\n",
      "tensor([0])\n",
      "tensor([0])\n",
      "tensor([1])\n",
      "tensor([1])\n",
      "tensor([0])\n",
      "tensor([0])\n",
      "tensor([0])\n",
      "tensor([1])\n",
      "tensor([0])\n",
      "tensor([1])\n",
      "tensor([1])\n",
      "tensor([0])\n",
      "tensor([0])\n",
      "tensor([1])\n",
      "tensor([0])\n",
      "tensor([0])\n",
      "tensor([0])\n",
      "tensor([0])\n",
      "tensor([1])\n",
      "tensor([1])\n",
      "tensor([0])\n",
      "tensor([0])\n",
      "tensor([0])\n",
      "tensor([1])\n",
      "tensor([0])\n",
      "tensor([1])\n",
      "tensor([0])\n",
      "tensor([0])\n",
      "tensor([0])\n",
      "tensor([0])\n",
      "tensor([1])\n",
      "tensor([0])\n",
      "tensor([1])\n",
      "tensor([0])\n",
      "tensor([1])\n",
      "tensor([0])\n",
      "tensor([0])\n",
      "tensor([0])\n",
      "tensor([0])\n",
      "tensor([0])\n",
      "tensor([0])\n",
      "tensor([0])\n",
      "tensor([0])\n",
      "tensor([1])\n",
      "tensor([0])\n",
      "tensor([1])\n",
      "tensor([0])\n",
      "tensor([1])\n",
      "tensor([1])\n",
      "tensor([0])\n",
      "tensor([0])\n",
      "tensor([0])\n",
      "tensor([1])\n",
      "tensor([0])\n",
      "tensor([0])\n",
      "tensor([0])\n",
      "tensor([1])\n",
      "tensor([1])\n",
      "tensor([1])\n",
      "tensor([0])\n",
      "tensor([1])\n",
      "tensor([0])\n",
      "tensor([1])\n",
      "tensor([0])\n",
      "tensor([0])\n",
      "tensor([0])\n",
      "tensor([1])\n",
      "tensor([1])\n",
      "tensor([1])\n",
      "tensor([0])\n",
      "tensor([1])\n",
      "tensor([0])\n",
      "tensor([1])\n",
      "tensor([0])\n",
      "tensor([0])\n",
      "tensor([1])\n",
      "tensor([0])\n",
      "tensor([1])\n",
      "tensor([0])\n",
      "tensor([0])\n",
      "tensor([0])\n",
      "tensor([0])\n",
      "tensor([0])\n",
      "tensor([1])\n",
      "tensor([0])\n",
      "tensor([0])\n",
      "tensor([1])\n",
      "tensor([1])\n",
      "tensor([0])\n",
      "tensor([1])\n",
      "tensor([0])\n",
      "tensor([1])\n",
      "tensor([0])\n",
      "tensor([1])\n",
      "tensor([0])\n",
      "tensor([1])\n",
      "tensor([1])\n",
      "tensor([0])\n",
      "tensor([0])\n",
      "tensor([1])\n",
      "tensor([0])\n",
      "tensor([0])\n",
      "tensor([0])\n",
      "tensor([1])\n",
      "tensor([1])\n",
      "tensor([1])\n",
      "tensor([0])\n",
      "tensor([0])\n",
      "tensor([1])\n",
      "tensor([0])\n",
      "tensor([0])\n",
      "tensor([0])\n",
      "tensor([0])\n",
      "tensor([1])\n",
      "tensor([1])\n",
      "tensor([0])\n",
      "tensor([1])\n",
      "tensor([0])\n",
      "tensor([1])\n",
      "tensor([1])\n",
      "tensor([0])\n",
      "tensor([0])\n"
     ]
    }
   ],
   "source": [
    "for data in train_data:\n",
    "    print(data.y)"
   ]
  },
  {
   "cell_type": "code",
   "execution_count": 10,
   "metadata": {
    "colab": {
     "base_uri": "https://localhost:8080/"
    },
    "id": "7yqF8X6Hin7i",
    "outputId": "fd33aa44-653b-4186-8539-b5417a467c18"
   },
   "outputs": [],
   "source": [
    "import networkx as nx"
   ]
  },
  {
   "cell_type": "code",
   "execution_count": 11,
   "metadata": {
    "colab": {
     "base_uri": "https://localhost:8080/",
     "height": 319
    },
    "id": "smHrIIV1iQfJ",
    "outputId": "d0bfafcd-55d3-4be3-d02f-5aa2ff51ee06"
   },
   "outputs": [
    {
     "data": {
      "image/png": "[encoded data removed]",
      "text/plain": [
       "<Figure size 432x288 with 1 Axes>"
      ]
     },
     "metadata": {},
     "output_type": "display_data"
    }
   ],
   "source": [
    "nx.draw(to_networkx(train_data[sample_id]), with_labels=True)"
   ]
  },
  {
   "cell_type": "markdown",
   "metadata": {
    "id": "xU_P6S-Zht5A"
   },
   "source": [
    "### Node features"
   ]
  },
  {
   "cell_type": "code",
   "execution_count": 12,
   "metadata": {
    "colab": {
     "base_uri": "https://localhost:8080/"
    },
    "id": "jmZMuKXv6S0g",
    "outputId": "bb4014f2-5d7d-4cee-fd54-c9e36a77a3e8"
   },
   "outputs": [
    {
     "name": "stdout",
     "output_type": "stream",
     "text": [
      "torch.Size([125, 310])\n"
     ]
    },
    {
     "data": {
      "text/plain": [
       "tensor([[0.5220, 0.5120, 0.4817,  ..., 0.6874, 0.1023, 0.1529],\n",
       "        [0.4610, 0.4544, 0.6279,  ..., 0.2055, 0.1667, 0.2500],\n",
       "        [0.4461, 0.4728, 0.4978,  ..., 0.8356, 0.0556, 0.0000],\n",
       "        ...,\n",
       "        [0.5574, 0.4934, 0.5588,  ..., 0.3562, 0.0556, 0.2647],\n",
       "        [0.5274, 0.5889, 0.4425,  ..., 0.9589, 0.1111, 0.1176],\n",
       "        [0.5220, 0.5120, 0.4817,  ..., 0.6874, 0.1023, 0.1529]])"
      ]
     },
     "execution_count": 12,
     "metadata": {},
     "output_type": "execute_result"
    }
   ],
   "source": [
    "print(train_data[sample_id].x.shape)\n",
    "train_data[sample_id].x"
   ]
  },
  {
   "cell_type": "markdown",
   "metadata": {
    "id": "cRzLDYg8Ec_4"
   },
   "source": [
    "### Class distribution"
   ]
  },
  {
   "cell_type": "code",
   "execution_count": 13,
   "metadata": {
    "colab": {
     "base_uri": "https://localhost:8080/",
     "height": 282
    },
    "id": "Ul5y-1IKEcdU",
    "outputId": "325ad0f8-b21a-4891-9d91-3ed59cd8d434"
   },
   "outputs": [
    {
     "data": {
      "text/plain": [
       "<AxesSubplot:>"
      ]
     },
     "execution_count": 13,
     "metadata": {},
     "output_type": "execute_result"
    },
    {
     "data": {
      "image/png": "[encoded data removed]",
      "text/plain": [
       "<Figure size 432x288 with 1 Axes>"
      ]
     },
     "metadata": {
      "needs_background": "light"
     },
     "output_type": "display_data"
    }
   ],
   "source": [
    "import pandas as pd\n",
    "\n",
    "labels = [data.y.item() for i, data in enumerate(train_data)]\n",
    "df = pd.DataFrame(labels, columns=[\"Labels\"])\n",
    "df[\"Labels\"].hist()"
   ]
  },
  {
   "cell_type": "markdown",
   "metadata": {
    "id": "vzAmnPlhl5iO"
   },
   "source": [
    "### Data Loaders"
   ]
  },
  {
   "cell_type": "code",
   "execution_count": 14,
   "metadata": {
    "id": "c0DhfbZgl44G"
   },
   "outputs": [],
   "source": [
    "from torch_geometric.loader import DataLoader\n",
    "\n",
    "train_loader = DataLoader(train_data, batch_size=128, shuffle=True)\n",
    "test_loader = DataLoader(test_data, batch_size=128, shuffle=False)"
   ]
  },
  {
   "cell_type": "markdown",
   "metadata": {
    "id": "C8m-dJ-WZFM1"
   },
   "source": [
    "## Model and Training\n",
    "\n",
    "--> Because it is a directed graph, it will only share information from the root"
   ]
  },
  {
   "cell_type": "code",
   "execution_count": 15,
   "metadata": {},
   "outputs": [
    {
     "name": "stdout",
     "output_type": "stream",
     "text": [
      "cuda\n"
     ]
    }
   ],
   "source": [
    "device = torch.device(\"cuda\" if torch.cuda.is_available() else \"cpu\")\n",
    "# device = torch.device(\"mps\" if torch.backends.mps.is_available() else \"cpu\")\n",
    "print(device)"
   ]
  },
  {
   "cell_type": "code",
   "execution_count": 38,
   "metadata": {},
   "outputs": [
    {
     "name": "stdout",
     "output_type": "stream",
     "text": [
      "Epoch: 00 |  TrainLoss: 0.69 | TestLoss: 0.69 | TestAcc: 0.50 | TestF1: 0.00\n",
      "Epoch: 01 |  TrainLoss: 0.69 | TestLoss: 0.69 | TestAcc: 0.50 | TestF1: 0.00\n",
      "Epoch: 02 |  TrainLoss: 0.69 | TestLoss: 0.69 | TestAcc: 0.54 | TestF1: 0.16\n",
      "Epoch: 03 |  TrainLoss: 0.69 | TestLoss: 0.69 | TestAcc: 0.50 | TestF1: 0.00\n",
      "Epoch: 04 |  TrainLoss: 0.69 | TestLoss: 0.69 | TestAcc: 0.73 | TestF1: 0.64\n",
      "Epoch: 05 |  TrainLoss: 0.69 | TestLoss: 0.69 | TestAcc: 0.50 | TestF1: 0.00\n",
      "Epoch: 06 |  TrainLoss: 0.69 | TestLoss: 0.69 | TestAcc: 0.84 | TestF1: 0.82\n",
      "Epoch: 07 |  TrainLoss: 0.69 | TestLoss: 0.69 | TestAcc: 0.68 | TestF1: 0.53\n",
      "Epoch: 08 |  TrainLoss: 0.68 | TestLoss: 0.69 | TestAcc: 0.50 | TestF1: 0.00\n",
      "Epoch: 09 |  TrainLoss: 0.68 | TestLoss: 0.68 | TestAcc: 0.50 | TestF1: 0.00\n",
      "Epoch: 10 |  TrainLoss: 0.68 | TestLoss: 0.68 | TestAcc: 0.76 | TestF1: 0.80\n",
      "Epoch: 11 |  TrainLoss: 0.68 | TestLoss: 0.68 | TestAcc: 0.61 | TestF1: 0.35\n",
      "Epoch: 12 |  TrainLoss: 0.68 | TestLoss: 0.68 | TestAcc: 0.73 | TestF1: 0.78\n",
      "Epoch: 13 |  TrainLoss: 0.68 | TestLoss: 0.68 | TestAcc: 0.50 | TestF1: 0.01\n",
      "Epoch: 14 |  TrainLoss: 0.68 | TestLoss: 0.68 | TestAcc: 0.64 | TestF1: 0.43\n",
      "Epoch: 15 |  TrainLoss: 0.68 | TestLoss: 0.68 | TestAcc: 0.86 | TestF1: 0.84\n",
      "Epoch: 16 |  TrainLoss: 0.68 | TestLoss: 0.68 | TestAcc: 0.54 | TestF1: 0.15\n",
      "Epoch: 17 |  TrainLoss: 0.68 | TestLoss: 0.67 | TestAcc: 0.88 | TestF1: 0.89\n",
      "Epoch: 18 |  TrainLoss: 0.67 | TestLoss: 0.67 | TestAcc: 0.61 | TestF1: 0.37\n",
      "Epoch: 19 |  TrainLoss: 0.67 | TestLoss: 0.67 | TestAcc: 0.66 | TestF1: 0.49\n",
      "Epoch: 20 |  TrainLoss: 0.67 | TestLoss: 0.67 | TestAcc: 0.86 | TestF1: 0.88\n",
      "Epoch: 21 |  TrainLoss: 0.67 | TestLoss: 0.67 | TestAcc: 0.55 | TestF1: 0.18\n",
      "Epoch: 22 |  TrainLoss: 0.67 | TestLoss: 0.67 | TestAcc: 0.91 | TestF1: 0.91\n",
      "Epoch: 23 |  TrainLoss: 0.67 | TestLoss: 0.67 | TestAcc: 0.58 | TestF1: 0.29\n",
      "Epoch: 24 |  TrainLoss: 0.67 | TestLoss: 0.66 | TestAcc: 0.92 | TestF1: 0.92\n",
      "Epoch: 25 |  TrainLoss: 0.66 | TestLoss: 0.66 | TestAcc: 0.78 | TestF1: 0.73\n",
      "Epoch: 26 |  TrainLoss: 0.66 | TestLoss: 0.66 | TestAcc: 0.85 | TestF1: 0.83\n",
      "Epoch: 27 |  TrainLoss: 0.66 | TestLoss: 0.66 | TestAcc: 0.83 | TestF1: 0.80\n",
      "Epoch: 28 |  TrainLoss: 0.66 | TestLoss: 0.65 | TestAcc: 0.77 | TestF1: 0.71\n",
      "Epoch: 29 |  TrainLoss: 0.65 | TestLoss: 0.65 | TestAcc: 0.80 | TestF1: 0.75\n",
      "Epoch: 30 |  TrainLoss: 0.65 | TestLoss: 0.65 | TestAcc: 0.86 | TestF1: 0.84\n",
      "Epoch: 31 |  TrainLoss: 0.65 | TestLoss: 0.64 | TestAcc: 0.91 | TestF1: 0.91\n",
      "Epoch: 32 |  TrainLoss: 0.64 | TestLoss: 0.64 | TestAcc: 0.72 | TestF1: 0.62\n",
      "Epoch: 33 |  TrainLoss: 0.64 | TestLoss: 0.64 | TestAcc: 0.86 | TestF1: 0.84\n",
      "Epoch: 34 |  TrainLoss: 0.63 | TestLoss: 0.63 | TestAcc: 0.92 | TestF1: 0.92\n",
      "Epoch: 35 |  TrainLoss: 0.63 | TestLoss: 0.63 | TestAcc: 0.88 | TestF1: 0.87\n",
      "Epoch: 36 |  TrainLoss: 0.62 | TestLoss: 0.62 | TestAcc: 0.83 | TestF1: 0.79\n",
      "Epoch: 37 |  TrainLoss: 0.62 | TestLoss: 0.61 | TestAcc: 0.89 | TestF1: 0.88\n",
      "Epoch: 38 |  TrainLoss: 0.61 | TestLoss: 0.61 | TestAcc: 0.76 | TestF1: 0.68\n",
      "Epoch: 39 |  TrainLoss: 0.60 | TestLoss: 0.60 | TestAcc: 0.73 | TestF1: 0.63\n",
      "Epoch: 40 |  TrainLoss: 0.59 | TestLoss: 0.59 | TestAcc: 0.79 | TestF1: 0.74\n",
      "Epoch: 41 |  TrainLoss: 0.58 | TestLoss: 0.58 | TestAcc: 0.72 | TestF1: 0.62\n",
      "Epoch: 42 |  TrainLoss: 0.56 | TestLoss: 0.57 | TestAcc: 0.71 | TestF1: 0.60\n",
      "Epoch: 43 |  TrainLoss: 0.55 | TestLoss: 0.53 | TestAcc: 0.92 | TestF1: 0.92\n",
      "Epoch: 44 |  TrainLoss: 0.52 | TestLoss: 0.51 | TestAcc: 0.89 | TestF1: 0.90\n",
      "Epoch: 45 |  TrainLoss: 0.49 | TestLoss: 0.47 | TestAcc: 0.90 | TestF1: 0.90\n",
      "Epoch: 46 |  TrainLoss: 0.46 | TestLoss: 0.43 | TestAcc: 0.91 | TestF1: 0.91\n",
      "Epoch: 47 |  TrainLoss: 0.42 | TestLoss: 0.43 | TestAcc: 0.82 | TestF1: 0.78\n",
      "Epoch: 48 |  TrainLoss: 0.40 | TestLoss: 0.39 | TestAcc: 0.88 | TestF1: 0.89\n",
      "Epoch: 49 |  TrainLoss: 0.37 | TestLoss: 0.38 | TestAcc: 0.84 | TestF1: 0.81\n",
      "Epoch: 50 |  TrainLoss: 0.33 | TestLoss: 0.31 | TestAcc: 0.91 | TestF1: 0.91\n",
      "Epoch: 51 |  TrainLoss: 0.30 | TestLoss: 0.33 | TestAcc: 0.86 | TestF1: 0.84\n",
      "Epoch: 52 |  TrainLoss: 0.30 | TestLoss: 0.35 | TestAcc: 0.86 | TestF1: 0.88\n",
      "Epoch: 53 |  TrainLoss: 0.28 | TestLoss: 0.32 | TestAcc: 0.85 | TestF1: 0.82\n",
      "Epoch: 54 |  TrainLoss: 0.28 | TestLoss: 0.29 | TestAcc: 0.90 | TestF1: 0.91\n",
      "Epoch: 55 |  TrainLoss: 0.25 | TestLoss: 0.25 | TestAcc: 0.91 | TestF1: 0.91\n",
      "Epoch: 56 |  TrainLoss: 0.23 | TestLoss: 0.24 | TestAcc: 0.92 | TestF1: 0.92\n",
      "Epoch: 57 |  TrainLoss: 0.22 | TestLoss: 0.22 | TestAcc: 0.92 | TestF1: 0.92\n",
      "Epoch: 58 |  TrainLoss: 0.20 | TestLoss: 0.21 | TestAcc: 0.94 | TestF1: 0.93\n",
      "Epoch: 59 |  TrainLoss: 0.19 | TestLoss: 0.20 | TestAcc: 0.94 | TestF1: 0.94\n"
     ]
    }
   ],
   "source": [
    "from src.trainer import Trainer\n",
    "\n",
    "model = GNN(train_data.num_features, 128, 1).to(device)\n",
    "optimizer = torch.optim.Adam(model.parameters(), lr=0.0002, weight_decay=0.01)\n",
    "loss_fnc = torch.nn.BCELoss()\n",
    "\n",
    "trainer = Trainer(model, loss_func=loss_fnc, optimizer=optimizer, device=device)\n",
    "\n",
    "train_losses_concat_lr_2e_4 = []\n",
    "test_losses_concat_lr_2e_4 = []\n",
    "test_acces_concat_lr_2e_4 = []\n",
    "test_f1score_concat_lr_2e_4 = []\n",
    "\n",
    "for epoch in range(60):\n",
    "    train_loss = trainer.train(train_loader)\n",
    "    test_loss, test_acc, test_f1 = trainer.test(test_loader)\n",
    "\n",
    "    train_losses_concat_lr_2e_4.append(train_loss)\n",
    "    test_losses_concat_lr_2e_4.append(test_loss)\n",
    "    test_acces_concat_lr_2e_4.append(test_acc)\n",
    "    test_f1score_concat_lr_2e_4.append(test_f1)\n",
    "\n",
    "    print(\n",
    "        f\"Epoch: {epoch:02d} |  TrainLoss: {train_loss:.2f} | \"\n",
    "        f\"TestLoss: {test_loss:.2f} | TestAcc: {test_acc:.2f} | TestF1: {test_f1:.2f}\"\n",
    "    )"
   ]
  },
  {
   "cell_type": "code",
   "execution_count": 26,
   "metadata": {
    "colab": {
     "base_uri": "https://localhost:8080/",
     "height": 235
    },
    "id": "W_5IZcgCFyav",
    "outputId": "314cebb5-5136-4d55-eb74-e1556e3c5ebc"
   },
   "outputs": [
    {
     "name": "stdout",
     "output_type": "stream",
     "text": [
      "   pred_logit  pred  true\n",
      "0    0.576764   1.0     1\n",
      "1    0.503087   1.0     1\n",
      "2    0.430423   0.0     0\n",
      "3    0.512809   1.0     1\n",
      "4    0.339395   0.0     0\n",
      "5    0.436462   0.0     0\n",
      "6    0.420225   0.0     0\n",
      "7    0.617786   1.0     1\n",
      "8    0.338772   0.0     0\n",
      "9    0.413669   0.0     0\n"
     ]
    }
   ],
   "source": [
    "for data in test_loader:\n",
    "    data = data.to(device)\n",
    "    pred = trainer.model(data.x, data.edge_index, data.batch)\n",
    "    df = pd.DataFrame()\n",
    "    df[\"pred_logit\"] = pred.cpu().detach().numpy()[:, 0]\n",
    "    df[\"pred\"] = torch.round(pred).cpu().detach().numpy()[:, 0]\n",
    "    df[\"true\"] = data.y.cpu().numpy()\n",
    "    print(df.head(10))\n",
    "    break"
   ]
  },
  {
   "cell_type": "code",
   "execution_count": 28,
   "metadata": {},
   "outputs": [
    {
     "name": "stdout",
     "output_type": "stream",
     "text": [
      "Epoch: 00 |  TrainLoss: 0.75 | TestLoss: 0.70 | TestAcc: 0.50 | TestF1: 0.00\n",
      "Epoch: 01 |  TrainLoss: 0.69 | TestLoss: 0.71 | TestAcc: 0.50 | TestF1: 0.00\n",
      "Epoch: 02 |  TrainLoss: 0.69 | TestLoss: 0.76 | TestAcc: 0.50 | TestF1: 0.67\n",
      "Epoch: 03 |  TrainLoss: 0.72 | TestLoss: 0.70 | TestAcc: 0.50 | TestF1: 0.67\n",
      "Epoch: 04 |  TrainLoss: 0.70 | TestLoss: 0.69 | TestAcc: 0.50 | TestF1: 0.00\n",
      "Epoch: 05 |  TrainLoss: 0.69 | TestLoss: 0.69 | TestAcc: 0.50 | TestF1: 0.00\n",
      "Epoch: 06 |  TrainLoss: 0.70 | TestLoss: 0.68 | TestAcc: 0.50 | TestF1: 0.00\n",
      "Epoch: 07 |  TrainLoss: 0.69 | TestLoss: 0.68 | TestAcc: 0.50 | TestF1: 0.67\n",
      "Epoch: 08 |  TrainLoss: 0.68 | TestLoss: 0.69 | TestAcc: 0.50 | TestF1: 0.67\n",
      "Epoch: 09 |  TrainLoss: 0.68 | TestLoss: 0.68 | TestAcc: 0.50 | TestF1: 0.00\n",
      "Epoch: 10 |  TrainLoss: 0.68 | TestLoss: 0.68 | TestAcc: 0.50 | TestF1: 0.00\n",
      "Epoch: 11 |  TrainLoss: 0.66 | TestLoss: 0.66 | TestAcc: 0.57 | TestF1: 0.25\n",
      "Epoch: 12 |  TrainLoss: 0.66 | TestLoss: 0.66 | TestAcc: 0.50 | TestF1: 0.67\n",
      "Epoch: 13 |  TrainLoss: 0.73 | TestLoss: 0.69 | TestAcc: 0.50 | TestF1: 0.00\n",
      "Epoch: 14 |  TrainLoss: 0.67 | TestLoss: 0.66 | TestAcc: 0.54 | TestF1: 0.13\n",
      "Epoch: 15 |  TrainLoss: 0.66 | TestLoss: 0.66 | TestAcc: 0.51 | TestF1: 0.06\n",
      "Epoch: 16 |  TrainLoss: 0.66 | TestLoss: 0.64 | TestAcc: 0.52 | TestF1: 0.67\n",
      "Epoch: 17 |  TrainLoss: 0.65 | TestLoss: 0.65 | TestAcc: 0.50 | TestF1: 0.67\n",
      "Epoch: 18 |  TrainLoss: 0.66 | TestLoss: 0.67 | TestAcc: 0.50 | TestF1: 0.01\n",
      "Epoch: 19 |  TrainLoss: 0.66 | TestLoss: 0.63 | TestAcc: 0.53 | TestF1: 0.12\n",
      "Epoch: 20 |  TrainLoss: 0.61 | TestLoss: 0.60 | TestAcc: 0.66 | TestF1: 0.49\n",
      "Epoch: 21 |  TrainLoss: 0.59 | TestLoss: 0.57 | TestAcc: 0.76 | TestF1: 0.69\n",
      "Epoch: 22 |  TrainLoss: 0.60 | TestLoss: 0.69 | TestAcc: 0.51 | TestF1: 0.03\n",
      "Epoch: 23 |  TrainLoss: 0.66 | TestLoss: 0.63 | TestAcc: 0.53 | TestF1: 0.13\n",
      "Epoch: 24 |  TrainLoss: 0.60 | TestLoss: 0.58 | TestAcc: 0.54 | TestF1: 0.69\n",
      "Epoch: 25 |  TrainLoss: 0.58 | TestLoss: 0.53 | TestAcc: 0.89 | TestF1: 0.90\n",
      "Epoch: 26 |  TrainLoss: 0.58 | TestLoss: 0.63 | TestAcc: 0.55 | TestF1: 0.17\n",
      "Epoch: 27 |  TrainLoss: 0.56 | TestLoss: 0.54 | TestAcc: 0.69 | TestF1: 0.55\n",
      "Epoch: 28 |  TrainLoss: 0.51 | TestLoss: 0.51 | TestAcc: 0.82 | TestF1: 0.84\n",
      "Epoch: 29 |  TrainLoss: 0.51 | TestLoss: 0.57 | TestAcc: 0.54 | TestF1: 0.68\n",
      "Epoch: 30 |  TrainLoss: 0.49 | TestLoss: 0.46 | TestAcc: 0.90 | TestF1: 0.91\n",
      "Epoch: 31 |  TrainLoss: 0.46 | TestLoss: 0.57 | TestAcc: 0.61 | TestF1: 0.36\n",
      "Epoch: 32 |  TrainLoss: 0.52 | TestLoss: 0.43 | TestAcc: 0.92 | TestF1: 0.91\n",
      "Epoch: 33 |  TrainLoss: 0.46 | TestLoss: 0.42 | TestAcc: 0.87 | TestF1: 0.86\n",
      "Epoch: 34 |  TrainLoss: 0.45 | TestLoss: 0.61 | TestAcc: 0.51 | TestF1: 0.67\n",
      "Epoch: 35 |  TrainLoss: 0.46 | TestLoss: 0.39 | TestAcc: 0.92 | TestF1: 0.91\n",
      "Epoch: 36 |  TrainLoss: 0.41 | TestLoss: 0.38 | TestAcc: 0.91 | TestF1: 0.91\n",
      "Epoch: 37 |  TrainLoss: 0.39 | TestLoss: 0.37 | TestAcc: 0.91 | TestF1: 0.91\n",
      "Epoch: 38 |  TrainLoss: 0.38 | TestLoss: 0.45 | TestAcc: 0.77 | TestF1: 0.81\n",
      "Epoch: 39 |  TrainLoss: 0.39 | TestLoss: 0.36 | TestAcc: 0.93 | TestF1: 0.93\n",
      "Epoch: 40 |  TrainLoss: 0.36 | TestLoss: 0.35 | TestAcc: 0.92 | TestF1: 0.93\n",
      "Epoch: 41 |  TrainLoss: 0.34 | TestLoss: 0.35 | TestAcc: 0.89 | TestF1: 0.88\n",
      "Epoch: 42 |  TrainLoss: 0.35 | TestLoss: 0.54 | TestAcc: 0.65 | TestF1: 0.47\n",
      "Epoch: 43 |  TrainLoss: 0.41 | TestLoss: 0.33 | TestAcc: 0.93 | TestF1: 0.93\n",
      "Epoch: 44 |  TrainLoss: 0.35 | TestLoss: 0.35 | TestAcc: 0.90 | TestF1: 0.91\n",
      "Epoch: 45 |  TrainLoss: 0.44 | TestLoss: 0.52 | TestAcc: 0.67 | TestF1: 0.75\n",
      "Epoch: 46 |  TrainLoss: 0.37 | TestLoss: 0.34 | TestAcc: 0.90 | TestF1: 0.91\n",
      "Epoch: 47 |  TrainLoss: 0.33 | TestLoss: 0.34 | TestAcc: 0.89 | TestF1: 0.90\n",
      "Epoch: 48 |  TrainLoss: 0.33 | TestLoss: 0.32 | TestAcc: 0.92 | TestF1: 0.93\n",
      "Epoch: 49 |  TrainLoss: 0.30 | TestLoss: 0.35 | TestAcc: 0.88 | TestF1: 0.89\n",
      "Epoch: 50 |  TrainLoss: 0.33 | TestLoss: 0.35 | TestAcc: 0.87 | TestF1: 0.88\n",
      "Epoch: 51 |  TrainLoss: 0.33 | TestLoss: 0.32 | TestAcc: 0.92 | TestF1: 0.92\n",
      "Epoch: 52 |  TrainLoss: 0.30 | TestLoss: 0.30 | TestAcc: 0.93 | TestF1: 0.93\n",
      "Epoch: 53 |  TrainLoss: 0.31 | TestLoss: 0.29 | TestAcc: 0.93 | TestF1: 0.94\n",
      "Epoch: 54 |  TrainLoss: 0.30 | TestLoss: 0.28 | TestAcc: 0.94 | TestF1: 0.94\n",
      "Epoch: 55 |  TrainLoss: 0.30 | TestLoss: 0.30 | TestAcc: 0.91 | TestF1: 0.90\n",
      "Epoch: 56 |  TrainLoss: 0.29 | TestLoss: 0.33 | TestAcc: 0.85 | TestF1: 0.83\n",
      "Epoch: 57 |  TrainLoss: 0.30 | TestLoss: 0.38 | TestAcc: 0.80 | TestF1: 0.75\n",
      "Epoch: 58 |  TrainLoss: 0.36 | TestLoss: 0.32 | TestAcc: 0.87 | TestF1: 0.85\n",
      "Epoch: 59 |  TrainLoss: 0.32 | TestLoss: 0.28 | TestAcc: 0.93 | TestF1: 0.93\n"
     ]
    }
   ],
   "source": [
    "model_2 = GNN(train_data.num_features, 128, 1).to(device)\n",
    "optimizer = torch.optim.Adam(model_2.parameters(), lr=0.01, weight_decay=0.01)\n",
    "loss_fnc = torch.nn.BCELoss()\n",
    "\n",
    "trainer_2 = Trainer(\n",
    "    model=model_2, loss_func=loss_fnc, optimizer=optimizer, device=device\n",
    ")\n",
    "\n",
    "train_losses_concat_lr_1e_2 = []\n",
    "test_losses_concat_lr_1e_2 = []\n",
    "test_acces_concat_lr_1e_2 = []\n",
    "test_f1score_concat_lr_1e_2 = []\n",
    "\n",
    "for epoch in range(60):\n",
    "    train_loss = trainer_2.train(train_loader)\n",
    "    test_loss, test_acc, test_f1 = trainer_2.test(test_loader)\n",
    "\n",
    "    train_losses_concat_lr_1e_2.append(train_loss)\n",
    "    test_losses_concat_lr_1e_2.append(test_loss)\n",
    "    test_acces_concat_lr_1e_2.append(test_acc)\n",
    "    test_f1score_concat_lr_1e_2.append(test_acc)\n",
    "\n",
    "    print(\n",
    "        f\"Epoch: {epoch:02d} |  TrainLoss: {train_loss:.2f} | \"\n",
    "        f\"TestLoss: {test_loss:.2f} | TestAcc: {test_acc:.2f} | TestF1: {test_f1:.2f}\"\n",
    "    )"
   ]
  },
  {
   "cell_type": "code",
   "execution_count": 29,
   "metadata": {
    "colab": {
     "base_uri": "https://localhost:8080/"
    },
    "id": "uf2YD4IG2kbO",
    "outputId": "abf6e525-1193-4935-f904-9cbcdf47d4a8"
   },
   "outputs": [
    {
     "name": "stdout",
     "output_type": "stream",
     "text": [
      "Epoch: 00 |  TrainLoss: 0.69 | TestLoss: 0.69 | TestAcc: 0.50 | TestF1: 0.00\n",
      "Epoch: 01 |  TrainLoss: 0.69 | TestLoss: 0.69 | TestAcc: 0.50 | TestF1: 0.00\n",
      "Epoch: 02 |  TrainLoss: 0.69 | TestLoss: 0.69 | TestAcc: 0.50 | TestF1: 0.00\n",
      "Epoch: 03 |  TrainLoss: 0.69 | TestLoss: 0.69 | TestAcc: 0.50 | TestF1: 0.00\n",
      "Epoch: 04 |  TrainLoss: 0.69 | TestLoss: 0.69 | TestAcc: 0.50 | TestF1: 0.00\n",
      "Epoch: 05 |  TrainLoss: 0.69 | TestLoss: 0.69 | TestAcc: 0.50 | TestF1: 0.00\n",
      "Epoch: 06 |  TrainLoss: 0.69 | TestLoss: 0.69 | TestAcc: 0.50 | TestF1: 0.00\n",
      "Epoch: 07 |  TrainLoss: 0.69 | TestLoss: 0.69 | TestAcc: 0.50 | TestF1: 0.00\n",
      "Epoch: 08 |  TrainLoss: 0.69 | TestLoss: 0.69 | TestAcc: 0.50 | TestF1: 0.00\n",
      "Epoch: 09 |  TrainLoss: 0.69 | TestLoss: 0.69 | TestAcc: 0.50 | TestF1: 0.00\n",
      "Epoch: 10 |  TrainLoss: 0.69 | TestLoss: 0.69 | TestAcc: 0.50 | TestF1: 0.00\n",
      "Epoch: 11 |  TrainLoss: 0.69 | TestLoss: 0.69 | TestAcc: 0.50 | TestF1: 0.00\n",
      "Epoch: 12 |  TrainLoss: 0.69 | TestLoss: 0.69 | TestAcc: 0.85 | TestF1: 0.86\n",
      "Epoch: 13 |  TrainLoss: 0.69 | TestLoss: 0.69 | TestAcc: 0.50 | TestF1: 0.00\n",
      "Epoch: 14 |  TrainLoss: 0.69 | TestLoss: 0.69 | TestAcc: 0.52 | TestF1: 0.07\n",
      "Epoch: 15 |  TrainLoss: 0.69 | TestLoss: 0.68 | TestAcc: 0.91 | TestF1: 0.91\n",
      "Epoch: 16 |  TrainLoss: 0.68 | TestLoss: 0.68 | TestAcc: 0.61 | TestF1: 0.35\n",
      "Epoch: 17 |  TrainLoss: 0.68 | TestLoss: 0.67 | TestAcc: 0.85 | TestF1: 0.83\n",
      "Epoch: 18 |  TrainLoss: 0.67 | TestLoss: 0.68 | TestAcc: 0.50 | TestF1: 0.00\n",
      "Epoch: 19 |  TrainLoss: 0.67 | TestLoss: 0.67 | TestAcc: 0.50 | TestF1: 0.67\n",
      "Epoch: 20 |  TrainLoss: 0.67 | TestLoss: 0.66 | TestAcc: 0.51 | TestF1: 0.05\n",
      "Epoch: 21 |  TrainLoss: 0.66 | TestLoss: 0.64 | TestAcc: 0.73 | TestF1: 0.63\n",
      "Epoch: 22 |  TrainLoss: 0.65 | TestLoss: 0.64 | TestAcc: 0.55 | TestF1: 0.69\n",
      "Epoch: 23 |  TrainLoss: 0.63 | TestLoss: 0.62 | TestAcc: 0.66 | TestF1: 0.49\n",
      "Epoch: 24 |  TrainLoss: 0.62 | TestLoss: 0.61 | TestAcc: 0.78 | TestF1: 0.72\n",
      "Epoch: 25 |  TrainLoss: 0.60 | TestLoss: 0.60 | TestAcc: 0.67 | TestF1: 0.75\n",
      "Epoch: 26 |  TrainLoss: 0.59 | TestLoss: 0.58 | TestAcc: 0.75 | TestF1: 0.80\n",
      "Epoch: 27 |  TrainLoss: 0.57 | TestLoss: 0.55 | TestAcc: 0.90 | TestF1: 0.91\n",
      "Epoch: 28 |  TrainLoss: 0.56 | TestLoss: 0.54 | TestAcc: 0.91 | TestF1: 0.91\n",
      "Epoch: 29 |  TrainLoss: 0.53 | TestLoss: 0.51 | TestAcc: 0.92 | TestF1: 0.92\n",
      "Epoch: 30 |  TrainLoss: 0.50 | TestLoss: 0.49 | TestAcc: 0.89 | TestF1: 0.89\n",
      "Epoch: 31 |  TrainLoss: 0.49 | TestLoss: 0.52 | TestAcc: 0.68 | TestF1: 0.53\n",
      "Epoch: 32 |  TrainLoss: 0.47 | TestLoss: 0.46 | TestAcc: 0.86 | TestF1: 0.84\n",
      "Epoch: 33 |  TrainLoss: 0.44 | TestLoss: 0.46 | TestAcc: 0.79 | TestF1: 0.73\n",
      "Epoch: 34 |  TrainLoss: 0.45 | TestLoss: 0.43 | TestAcc: 0.85 | TestF1: 0.83\n",
      "Epoch: 35 |  TrainLoss: 0.42 | TestLoss: 0.40 | TestAcc: 0.92 | TestF1: 0.92\n",
      "Epoch: 36 |  TrainLoss: 0.39 | TestLoss: 0.38 | TestAcc: 0.92 | TestF1: 0.92\n",
      "Epoch: 37 |  TrainLoss: 0.38 | TestLoss: 0.37 | TestAcc: 0.91 | TestF1: 0.91\n",
      "Epoch: 38 |  TrainLoss: 0.36 | TestLoss: 0.36 | TestAcc: 0.92 | TestF1: 0.92\n",
      "Epoch: 39 |  TrainLoss: 0.35 | TestLoss: 0.36 | TestAcc: 0.90 | TestF1: 0.91\n",
      "Epoch: 40 |  TrainLoss: 0.36 | TestLoss: 0.33 | TestAcc: 0.92 | TestF1: 0.92\n",
      "Epoch: 41 |  TrainLoss: 0.32 | TestLoss: 0.32 | TestAcc: 0.92 | TestF1: 0.92\n",
      "Epoch: 42 |  TrainLoss: 0.32 | TestLoss: 0.33 | TestAcc: 0.88 | TestF1: 0.86\n",
      "Epoch: 43 |  TrainLoss: 0.30 | TestLoss: 0.30 | TestAcc: 0.92 | TestF1: 0.92\n",
      "Epoch: 44 |  TrainLoss: 0.29 | TestLoss: 0.29 | TestAcc: 0.92 | TestF1: 0.92\n",
      "Epoch: 45 |  TrainLoss: 0.28 | TestLoss: 0.29 | TestAcc: 0.91 | TestF1: 0.91\n",
      "Epoch: 46 |  TrainLoss: 0.27 | TestLoss: 0.30 | TestAcc: 0.91 | TestF1: 0.91\n",
      "Epoch: 47 |  TrainLoss: 0.27 | TestLoss: 0.27 | TestAcc: 0.92 | TestF1: 0.91\n",
      "Epoch: 48 |  TrainLoss: 0.26 | TestLoss: 0.30 | TestAcc: 0.87 | TestF1: 0.86\n",
      "Epoch: 49 |  TrainLoss: 0.27 | TestLoss: 0.26 | TestAcc: 0.93 | TestF1: 0.93\n",
      "Epoch: 50 |  TrainLoss: 0.26 | TestLoss: 0.25 | TestAcc: 0.93 | TestF1: 0.93\n",
      "Epoch: 51 |  TrainLoss: 0.24 | TestLoss: 0.25 | TestAcc: 0.92 | TestF1: 0.92\n",
      "Epoch: 52 |  TrainLoss: 0.24 | TestLoss: 0.24 | TestAcc: 0.93 | TestF1: 0.93\n",
      "Epoch: 53 |  TrainLoss: 0.25 | TestLoss: 0.29 | TestAcc: 0.90 | TestF1: 0.91\n",
      "Epoch: 54 |  TrainLoss: 0.25 | TestLoss: 0.23 | TestAcc: 0.93 | TestF1: 0.93\n",
      "Epoch: 55 |  TrainLoss: 0.24 | TestLoss: 0.25 | TestAcc: 0.91 | TestF1: 0.91\n",
      "Epoch: 56 |  TrainLoss: 0.23 | TestLoss: 0.23 | TestAcc: 0.93 | TestF1: 0.93\n",
      "Epoch: 57 |  TrainLoss: 0.23 | TestLoss: 0.23 | TestAcc: 0.93 | TestF1: 0.93\n",
      "Epoch: 58 |  TrainLoss: 0.22 | TestLoss: 0.22 | TestAcc: 0.93 | TestF1: 0.93\n",
      "Epoch: 59 |  TrainLoss: 0.22 | TestLoss: 0.22 | TestAcc: 0.93 | TestF1: 0.93\n"
     ]
    }
   ],
   "source": [
    "fusion_model = GNNWithAttentionFusion(train_data.num_features, 128, 1).to(device)\n",
    "optimizer = torch.optim.Adam(fusion_model.parameters(), lr=0.0002, weight_decay=0.01)\n",
    "loss_fnc = torch.nn.BCELoss()\n",
    "\n",
    "trainer_attention_fusion = Trainer(\n",
    "    model=fusion_model, loss_func=loss_fnc, optimizer=optimizer, device=device\n",
    ")\n",
    "\n",
    "train_losses_fusion = []\n",
    "test_losses_fusion = []\n",
    "test_acces_fusion = []\n",
    "test_f1score_fusion = []\n",
    "\n",
    "for epoch in range(60):\n",
    "    train_loss = trainer_attention_fusion.train(train_loader)\n",
    "    test_loss, test_acc, test_f1 = trainer_attention_fusion.test(test_loader)\n",
    "\n",
    "    train_losses_fusion.append(train_loss)\n",
    "    test_losses_fusion.append(test_loss)\n",
    "    test_acces_fusion.append(test_acc)\n",
    "    test_f1score_fusion.append(test_f1)\n",
    "\n",
    "    print(\n",
    "        f\"Epoch: {epoch:02d} |  TrainLoss: {train_loss:.2f} | \"\n",
    "        f\"TestLoss: {test_loss:.2f} | TestAcc: {test_acc:.2f} | TestF1: {test_f1:.2f}\"\n",
    "    )"
   ]
  },
  {
   "cell_type": "markdown",
   "source": [
    "## Results"
   ],
   "metadata": {
    "collapsed": false,
    "pycharm": {
     "name": "#%% md\n"
    }
   }
  },
  {
   "cell_type": "code",
   "execution_count": 39,
   "metadata": {
    "colab": {
     "base_uri": "https://localhost:8080/",
     "height": 282
    },
    "id": "O0GQzuPy2meW",
    "outputId": "e89543d1-a20d-4edb-d5da-04b4daced029"
   },
   "outputs": [
    {
     "data": {
      "image/png": "[encoded data removed]",
      "text/plain": [
       "<Figure size 432x288 with 1 Axes>"
      ]
     },
     "metadata": {
      "needs_background": "light"
     },
     "output_type": "display_data"
    }
   ],
   "source": [
    "import matplotlib.pyplot as plt\n",
    "\n",
    "plt.plot(test_losses_fusion, label=\"Attention fusion lr=2e-4\")\n",
    "plt.plot(test_losses_concat_lr_1e_2, label=\"Concatenation lr=1e-2\")\n",
    "plt.plot(test_losses_concat_lr_2e_4, label=\"Concatenation lr=2e-4\")\n",
    "plt.xlabel(\"Epochs\")\n",
    "plt.ylabel(\"Loss\")\n",
    "plt.legend()\n",
    "plt.show()"
   ]
  },
  {
   "cell_type": "code",
   "execution_count": 40,
   "metadata": {
    "colab": {
     "base_uri": "https://localhost:8080/",
     "height": 282
    },
    "id": "N_R67kpCeukH",
    "outputId": "971553dc-ecfb-48f8-d9bc-720e8ab0d9cc"
   },
   "outputs": [
    {
     "data": {
      "image/png": "[encoded data removed]",
      "text/plain": [
       "<Figure size 432x288 with 1 Axes>"
      ]
     },
     "metadata": {
      "needs_background": "light"
     },
     "output_type": "display_data"
    }
   ],
   "source": [
    "plt.plot(test_acces_fusion, label=\"Attention fusion lr=2e-4\")\n",
    "plt.plot(test_acces_concat_lr_1e_2, label=\"Concatenation lr=1e-2\")\n",
    "plt.plot(test_acces_concat_lr_2e_4, label=\"Concatenation lr=2e-4\")\n",
    "plt.xlabel(\"Epochs\")\n",
    "plt.ylabel(\"Accuracy\")\n",
    "plt.legend()\n",
    "plt.show()"
   ]
  },
  {
   "cell_type": "code",
   "execution_count": 41,
   "metadata": {},
   "outputs": [
    {
     "data": {
      "image/png": "[encoded data removed]",
      "text/plain": [
       "<Figure size 432x288 with 1 Axes>"
      ]
     },
     "metadata": {
      "needs_background": "light"
     },
     "output_type": "display_data"
    }
   ],
   "source": [
    "plt.plot(test_f1score_fusion, label=\"Attention fusion lr=2e-4\")\n",
    "plt.plot(test_f1score_concat_lr_1e_2, label=\"Concatenation lr=1e-2\")\n",
    "plt.plot(test_f1score_concat_lr_2e_4, label=\"Concatenation lr=2e-4\")\n",
    "plt.xlabel(\"Epochs\")\n",
    "plt.ylabel(\"F1 Score\")\n",
    "plt.legend()\n",
    "plt.show()"
   ]
  },
  {
   "cell_type": "markdown",
   "source": [
    "# Visualization with T-SNE"
   ],
   "metadata": {
    "collapsed": false,
    "pycharm": {
     "name": "#%% md\n"
    }
   }
  },
  {
   "cell_type": "code",
   "execution_count": 43,
   "metadata": {
    "id": "r5d-8CIQe6FK"
   },
   "outputs": [],
   "source": [
    "from sklearn.manifold import TSNE\n",
    "import numpy as np"
   ]
  },
  {
   "cell_type": "code",
   "execution_count": 44,
   "metadata": {},
   "outputs": [],
   "source": [
    "# a parameter for dimension reduction\n",
    "n_components = 2"
   ]
  },
  {
   "cell_type": "markdown",
   "source": [
    "## Concatenation (lr=0.0002)"
   ],
   "metadata": {
    "collapsed": false,
    "pycharm": {
     "name": "#%% md\n"
    }
   }
  },
  {
   "cell_type": "code",
   "execution_count": 45,
   "metadata": {
    "colab": {
     "base_uri": "https://localhost:8080/",
     "height": 517
    },
    "id": "ybdBSFm0hRoM",
    "outputId": "99f9f4ab-9db9-478d-c7a6-15a19fffc036"
   },
   "outputs": [
    {
     "name": "stderr",
     "output_type": "stream",
     "text": [
      "c:\\Users\\leok8\\miniconda3\\envs\\net-sci\\lib\\site-packages\\sklearn\\manifold\\_t_sne.py:780: FutureWarning: The default initialization in TSNE will change from 'random' to 'pca' in 1.2.\n",
      "  warnings.warn(\n"
     ]
    },
    {
     "data": {
      "image/png": "[encoded data removed]",
      "text/plain": [
       "<Figure size 720x576 with 1 Axes>"
      ]
     },
     "metadata": {
      "needs_background": "light"
     },
     "output_type": "display_data"
    }
   ],
   "source": [
    "# load the node embedding vector that has been trained. (34, 4) dimension\n",
    "node_emb = np.copy(model.emb.cpu().detach().numpy())\n",
    "\n",
    "# transform the node embedding vector size from (34, 4) into (34, 2) with a T-SNE model\n",
    "model_tsne = TSNE(n_components=n_components, learning_rate=100, perplexity=3)\n",
    "node_emb_2d = model_tsne.fit_transform(node_emb)\n",
    "\n",
    "# separate the x-axis values and y-axis values\n",
    "x = node_emb_2d[:, 0]\n",
    "y = node_emb_2d[:, 1]\n",
    "\n",
    "# set color options from the labels.\n",
    "# node_colours = labels[:, -1]\n",
    "\n",
    "# scatter plot\n",
    "plt.figure(figsize=(10, 8))\n",
    "plt.scatter(x, y, cmap=\"jet\")\n",
    "plt.show()"
   ]
  },
  {
   "cell_type": "markdown",
   "source": [
    "## Concatenation (lr=0.01)"
   ],
   "metadata": {
    "collapsed": false,
    "pycharm": {
     "name": "#%% md\n"
    }
   }
  },
  {
   "cell_type": "code",
   "execution_count": 46,
   "metadata": {},
   "outputs": [
    {
     "name": "stderr",
     "output_type": "stream",
     "text": [
      "c:\\Users\\leok8\\miniconda3\\envs\\net-sci\\lib\\site-packages\\sklearn\\manifold\\_t_sne.py:780: FutureWarning: The default initialization in TSNE will change from 'random' to 'pca' in 1.2.\n",
      "  warnings.warn(\n"
     ]
    },
    {
     "data": {
      "image/png": "[encoded data removed]",
      "text/plain": [
       "<Figure size 720x576 with 1 Axes>"
      ]
     },
     "metadata": {
      "needs_background": "light"
     },
     "output_type": "display_data"
    }
   ],
   "source": [
    "# load the node embedding vector that has been trained. (34, 4) dimension\n",
    "node_emb = np.copy(model_2.emb.cpu().detach().numpy())\n",
    "\n",
    "# transform the node embedding vector size from (34, 4) into (34, 2) with a T-SNE model\n",
    "model_tsne = TSNE(n_components=n_components, learning_rate=100, perplexity=3)\n",
    "node_emb_2d = model_tsne.fit_transform(node_emb)\n",
    "\n",
    "# separate the x-axis values and y-axis values\n",
    "x = node_emb_2d[:, 0]\n",
    "y = node_emb_2d[:, 1]\n",
    "\n",
    "# set color options from the labels.\n",
    "# node_colours = labels[:, -1]\n",
    "\n",
    "# scatter plot\n",
    "plt.figure(figsize=(10, 8))\n",
    "plt.scatter(x, y, cmap=\"jet\")\n",
    "plt.show()"
   ]
  },
  {
   "cell_type": "markdown",
   "source": [
    "## Attention fusion (lr=0.0002)"
   ],
   "metadata": {
    "collapsed": false,
    "pycharm": {
     "name": "#%% md\n"
    }
   }
  },
  {
   "cell_type": "code",
   "execution_count": 47,
   "metadata": {
    "colab": {
     "base_uri": "https://localhost:8080/",
     "height": 517
    },
    "id": "F4g13AXUhlMh",
    "outputId": "4673ef2b-28ae-44dd-c70d-7a433d40ca44"
   },
   "outputs": [
    {
     "name": "stderr",
     "output_type": "stream",
     "text": [
      "c:\\Users\\leok8\\miniconda3\\envs\\net-sci\\lib\\site-packages\\sklearn\\manifold\\_t_sne.py:780: FutureWarning: The default initialization in TSNE will change from 'random' to 'pca' in 1.2.\n",
      "  warnings.warn(\n"
     ]
    },
    {
     "data": {
      "image/png": "[encoded data removed]",
      "text/plain": [
       "<Figure size 720x576 with 1 Axes>"
      ]
     },
     "metadata": {
      "needs_background": "light"
     },
     "output_type": "display_data"
    }
   ],
   "source": [
    "# load the node embedding vector that has been trained. (34, 4) dimension\n",
    "node_emb = np.copy(fusion_model.emb.cpu().detach().numpy())\n",
    "\n",
    "# transform the node embedding vector size from (34, 4) into (34, 2) with a T-SNE model\n",
    "model_tsne = TSNE(n_components=n_components, learning_rate=100, perplexity=3)\n",
    "node_emb_2d = model_tsne.fit_transform(node_emb)\n",
    "\n",
    "# separate the x-axis values and y-axis values\n",
    "x = node_emb_2d[:, 0]\n",
    "y = node_emb_2d[:, 1]\n",
    "\n",
    "# set color options from the labels.\n",
    "# node_colours = labels[:, -1]\n",
    "\n",
    "# scatter plot\n",
    "plt.figure(figsize=(10, 8))\n",
    "plt.scatter(x, y, cmap=\"jet\")\n",
    "plt.show()"
   ]
  }
 ],
 "metadata": {
  "accelerator": "GPU",
  "colab": {
   "collapsed_sections": [],
   "name": "fake_news_detection.ipynb의 사본",
   "provenance": []
  },
  "gpuClass": "standard",
  "interpreter": {
   "hash": "061f8ce379c074f0236f397706a31c1eff37be2453e3164063365ec65c21205c"
  },
  "kernelspec": {
   "display_name": "Python 3.8.13 ('net-sci')",
   "language": "python",
   "name": "python3"
  },
  "language_info": {
   "codemirror_mode": {
    "name": "ipython",
    "version": 3
   },
   "file_extension": ".py",
   "mimetype": "text/x-python",
   "name": "python",
   "nbconvert_exporter": "python",
   "pygments_lexer": "ipython3",
   "version": "3.8.13"
  },
  "vscode": {
   "interpreter": {
    "hash": "061f8ce379c074f0236f397706a31c1eff37be2453e3164063365ec65c21205c"
   }
  }
 },
 "nbformat": 4,
 "nbformat_minor": 0
}